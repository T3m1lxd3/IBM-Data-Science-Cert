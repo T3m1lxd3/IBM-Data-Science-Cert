{
 "cells": [
  {
   "cell_type": "markdown",
   "id": "8d9c0783-c921-43bd-8a68-d91835012318",
   "metadata": {},
   "source": [
    "# Data Science Tools and Ecosystem"
   ]
  },
  {
   "cell_type": "markdown",
   "id": "74ce3468-740c-4e9f-941d-8e7f8ff4542e",
   "metadata": {},
   "source": [
    "## In this notebook, Data Science Tools and Ecosystem are summarized"
   ]
  },
  {
   "cell_type": "markdown",
   "id": "78367f4d-7eb5-4882-a875-51062cb73dae",
   "metadata": {},
   "source": [
    "**Objectives:**\n",
    "List of available R libraries\n",
    "- dplyr\n",
    "- stringr\n",
    "- ggplot\n",
    "- caret"
   ]
  },
  {
   "cell_type": "markdown",
   "id": "f3699d56-e126-4332-bdd9-6ef00301e3f8",
   "metadata": {},
   "source": [
    "## Some of the popular languages that Data Scientists use are:\n",
    "1. Python\n",
    "2. R\n",
    "3. SQL"
   ]
  },
  {
   "cell_type": "markdown",
   "id": "25e1e6b6-c212-4ab5-adc8-f867ee9c07dc",
   "metadata": {},
   "source": [
    "| Data Science Toools |\n",
    "|---------------------|\n",
    "| JupyterLab |\n",
    "| Apache Zeppelin |\n",
    "| RStudio |\n"
   ]
  },
  {
   "cell_type": "markdown",
   "id": "9a7b2222-3341-4f2f-9378-b527568479d9",
   "metadata": {},
   "source": [
    "### Below are a few examples of evaluating arithmetic expressions in Python\n"
   ]
  },
  {
   "cell_type": "code",
   "execution_count": 10,
   "id": "d12fe597-1a2b-410e-b192-3c2df4882e21",
   "metadata": {},
   "outputs": [
    {
     "data": {
      "text/plain": [
       "17"
      ]
     },
     "execution_count": 10,
     "metadata": {},
     "output_type": "execute_result"
    }
   ],
   "source": [
    "# This is a simple arithmetic experssion to multiply then add integers\n",
    "(3*4)+5"
   ]
  },
  {
   "cell_type": "code",
   "execution_count": 18,
   "id": "2f0de89c-c991-4d62-a853-f828baf0e0fc",
   "metadata": {},
   "outputs": [
    {
     "data": {
      "text/plain": [
       "3.3333333333333335"
      ]
     },
     "execution_count": 18,
     "metadata": {},
     "output_type": "execute_result"
    }
   ],
   "source": [
    "# This will convert 200 minutes to hours by dividing by 60\n",
    "200/60"
   ]
  },
  {
   "cell_type": "markdown",
   "id": "8bb977c5-be85-4d2b-a4f1-c913eaf39eb3",
   "metadata": {},
   "source": [
    "## Author\n",
    "Toni Toyobo"
   ]
  },
  {
   "cell_type": "code",
   "execution_count": null,
   "id": "4ae609bb-7745-44c9-9cbf-ded6377eca21",
   "metadata": {},
   "outputs": [],
   "source": []
  }
 ],
 "metadata": {
  "kernelspec": {
   "display_name": "Python 3 (ipykernel)",
   "language": "python",
   "name": "python3"
  },
  "language_info": {
   "codemirror_mode": {
    "name": "ipython",
    "version": 3
   },
   "file_extension": ".py",
   "mimetype": "text/x-python",
   "name": "python",
   "nbconvert_exporter": "python",
   "pygments_lexer": "ipython3",
   "version": "3.11.9"
  }
 },
 "nbformat": 4,
 "nbformat_minor": 5
}
